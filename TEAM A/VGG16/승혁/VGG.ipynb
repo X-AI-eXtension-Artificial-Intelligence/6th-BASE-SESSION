{
  "cells": [
    {
      "cell_type": "code",
      "execution_count": 1,
      "metadata": {
        "id": "tPCbkTs8ffA9"
      },
      "outputs": [],
      "source": [
        "import torch\n",
        "import torch.nn as nn\n",
        "from tqdm import trange\n",
        "\n",
        "learning_rate = 0.001"
      ]
    },
    {
      "cell_type": "code",
      "execution_count": 18,
      "metadata": {
        "id": "8yBlLBxP_1Rb"
      },
      "outputs": [],
      "source": [
        "def conv_2_block(in_dim, out_dim):                                  # 입력 채널 수와 출력 채널 수를 인자로 받는 함수 정의\n",
        "    model = nn.Sequential(                                          \n",
        "        nn.Conv2d(in_dim, out_dim, kernel_size=3, padding=1),       # 3x3 커널을 사용하는 2D 컨볼루션 연산 (입력 채널 -> 출력 채널)\n",
        "        nn.ReLU(),                                                  # Activation Function ReLU 적용\n",
        "        nn.Conv2d(out_dim, out_dim, kernel_size=3, padding=1),      # 3x3 커널의 2D 컨볼루션 (출력 채널 유지)\n",
        "        nn.ReLU(),                                                  # Activation Function ReLU 적용\n",
        "        nn.MaxPool2d(2,2)                                           # 2x2 크기의 맥스 풀링을 적용하여 특성 맵 크기를 절반으로 줄임\n",
        "    )\n",
        "    return model                                                    # Model 반환"
      ]
    },
    {
      "cell_type": "code",
      "execution_count": null,
      "metadata": {},
      "outputs": [],
      "source": [
        "def conv_3_block(in_dim, out_dim):                                  # 입력 채널 수와 출력 채널 수를 인자로 받는 함수 정의\n",
        "    model = nn.Sequential(  \n",
        "        nn.Conv2d(in_dim, out_dim, kernel_size=3, padding=1),       # 첫 번째 3x3 커널 컨볼루션 (입력 채널 -> 출력 채널)\n",
        "        nn.ReLU(),                                                  # Activation Function ReLU 적용\n",
        "        nn.Conv2d(out_dim, out_dim, kernel_size=3, padding=1),      # 두 번째 3x3 커널 컨볼루션 (출력 채널 유지)\n",
        "        nn.ReLU(),                                                  # Activation Function ReLU 적용\n",
        "        nn.Conv2d(out_dim, out_dim, kernel_size=3, padding=1),      # 세 번째 3x3 커널 컨볼루션 (출력 채널 유지)\n",
        "        nn.ReLU(),                                                  # Activation Function ReLU 적용\n",
        "        nn.MaxPool2d(2,2)                                           # 2x2 크기의 맥스 풀링을 적용하여 특성 맵 크기를 절반으로 줄임\n",
        "    )\n",
        "    return model                                                    # Model 반환"
      ]
    },
    {
      "cell_type": "code",
      "execution_count": null,
      "metadata": {},
      "outputs": [],
      "source": [
        "import torch.nn as nn\n",
        "\n",
        "class VGG(nn.Module):\n",
        "    def __init__(self, base_dim, num_classes=10):  # 기본 채널 수(base_dim)와 분류할 클래스 수(num_classes) input\n",
        "        super(VGG, self).__init__()\n",
        "\n",
        "        self.feature = nn.Sequential(\n",
        "            conv_2_block(3, base_dim),                          # 입력 채널 3(RGB) → base_dim (64)\n",
        "            conv_2_block(base_dim, 2 * base_dim),               # base_dim → 2*base_dim (128)\n",
        "            conv_3_block(2 * base_dim, 4 * base_dim),           # 2*base_dim → 4*base_dim (256)\n",
        "            conv_3_block(4 * base_dim, 8 * base_dim),           # 4*base_dim → 8*base_dim (512)\n",
        "            conv_3_block(8 * base_dim, 8 * base_dim),           # 8*base_dim → 8*base_dim (512)\n",
        "        )\n",
        "\n",
        "        self.fc_layer = nn.Sequential(\n",
        "            nn.Linear(8 * base_dim * 1 * 1, 4096),              # 8*base_dim 채널을 가진 1x1 크기의 feature map을 4096차원으로 변환\n",
        "            nn.ReLU(True),                                      # Activation Function ReLU 적용\n",
        "            nn.Dropout(),                                       # 드롭아웃 적용\n",
        "            nn.Linear(4096, 1000),                              # 4096차원을 1000차원으로 변환\n",
        "            nn.ReLU(True),                                      # Activation Function ReLU 적용\n",
        "            nn.Dropout(),                                       # 드롭아웃 적용\n",
        "            nn.Linear(1000, num_classes),                       # 최종적으로 num_classes(10) 개수만큼 최종 출력\n",
        "        )\n",
        "\n",
        "    def forward(self, x):\n",
        "        x = self.feature(x)                                     \n",
        "        x = x.view(x.size(0), -1)                               # FC Layer에 입력하기 위해 Flatten 처리\n",
        "        x = self.fc_layer(x)                                    # FC Layer을 거쳐 최종 출력 생성\n",
        "        return x          "
      ]
    },
    {
      "cell_type": "code",
      "execution_count": 5,
      "metadata": {
        "id": "5vrbKmNgd3la"
      },
      "outputs": [],
      "source": [
        "# device 설정\n",
        "device = torch.device(\"cuda:0\" if torch.cuda.is_available() else \"cpu\")     # GPU 할당\n",
        "\n",
        "# VGG 클래스를 인스턴스화\n",
        "model = VGG(base_dim=64).to(device)                                         # GPU 할당 및 \n",
        "\n",
        "# 손실함수 및 최적화함수 설정\n",
        "loss_func = nn.CrossEntropyLoss()                                           # CrossEntropyLoss 손실함수 적용\n",
        "optimizer = torch.optim.Adam(model.parameters(), lr=learning_rate)          # Adam Optimizrer 적용"
      ]
    },
    {
      "cell_type": "code",
      "execution_count": 6,
      "metadata": {
        "id": "uFlA-mOvhPf-"
      },
      "outputs": [
        {
          "name": "stdout",
          "output_type": "stream",
          "text": [
            "Files already downloaded and verified\n",
            "Files already downloaded and verified\n"
          ]
        }
      ],
      "source": [
        "import torchvision\n",
        "import torchvision.datasets as datasets\n",
        "import torchvision.transforms as transforms\n",
        "from torch.utils.data import DataLoader\n",
        "\n",
        "# Transform 정의\n",
        "transform = transforms.Compose(\n",
        "    [transforms.ToTensor(),                                                                     # 이미지를 Tensor 형식으로 변환 (0~255 → 0~1 범위로 정규화)\n",
        "     transforms.Normalize((0.5, 0.5, 0.5), (0.5, 0.5, 0.5))])                                   # 평균 0.5, 표준편차 0.5로 정규화\n",
        "\n",
        "# CIFAR10 TRAIN 데이터 정의\n",
        "cifar10_train = datasets.CIFAR10(root=\"../Data/\", train=True, transform=transform, target_transform=None, download=True)\n",
        "\n",
        "# CIFAR10 TEST 데이터 정의\n",
        "cifar10_test = datasets.CIFAR10(root=\"../Data/\", train=False, transform=transform, target_transform=None, download=True)\n",
        "\n",
        "classes = ('plane', 'car', 'bird', 'cat', 'deer', 'dog', 'frog', 'horse', 'ship', 'truck')      # 10개 클래스로 분류"
      ]
    },
    {
      "cell_type": "code",
      "execution_count": 7,
      "metadata": {
        "id": "NwRHEcRDiq_a"
      },
      "outputs": [
        {
          "name": "stdout",
          "output_type": "stream",
          "text": [
            "Files already downloaded and verified\n"
          ]
        },
        {
          "data": {
            "image/png": "[encoded data removed]",
            "text/plain": [
              "<Figure size 640x480 with 1 Axes>"
            ]
          },
          "metadata": {},
          "output_type": "display_data"
        },
        {
          "name": "stdout",
          "output_type": "stream",
          "text": [
            " deer plane   car  bird\n"
          ]
        }
      ],
      "source": [
        "import matplotlib.pyplot as plt\n",
        "import numpy as np\n",
        "\n",
        "train_loader = torch.utils.data.DataLoader(cifar10_train, batch_size=batch_size,\n",
        "                                           shuffle=True, num_workers=2)\n",
        "\n",
        "test_loader = torch.utils.data.DataLoader(cifar10_test, batch_size=batch_size,\n",
        "                                           shuffle=True, num_workers=2)\n",
        "\n",
        "# 이미지를 보여주기 위한 함수\n",
        "def imshow(img):\n",
        "    img = img / 2 + 0.5     # unnormalize\n",
        "    npimg = img.numpy()\n",
        "    plt.imshow(np.transpose(npimg, (1, 2, 0)))\n",
        "    plt.show()\n",
        "\n",
        "# 학습용 이미지를 무작위로 가져오기\n",
        "dataiter = iter(train_loader)\n",
        "images, labels = next(dataiter)\n",
        "\n",
        "# 이미지 보여주기\n",
        "imshow(torchvision.utils.make_grid(images))\n",
        "\n",
        "# 정답(label) 출력\n",
        "print(' '.join('%5s' % classes[labels[j]] for j in range(batch_size)))\n"
      ]
    },
    {
      "cell_type": "code",
      "execution_count": 16,
      "metadata": {
        "id": "9QmeZ1UAirqe"
      },
      "outputs": [],
      "source": [
        "batch_size = 100        # Batch_size 설정 (100)\n",
        "learning_rate = 0.0002  # 학습률 설정 (0.0002)\n",
        "num_epoch = 100         # epochs 수 설정 (100)"
      ]
    },
    {
      "cell_type": "code",
      "execution_count": 17,
      "metadata": {
        "id": "SYFDbMUQj5sQ"
      },
      "outputs": [
        {
          "name": "stderr",
          "output_type": "stream",
          "text": [
            "  1%|          | 1/100 [01:27<2:24:47, 87.76s/it]"
          ]
        },
        {
          "name": "stdout",
          "output_type": "stream",
          "text": [
            "tensor(2.2920, device='cuda:0', grad_fn=<NllLossBackward0>)\n"
          ]
        },
        {
          "name": "stderr",
          "output_type": "stream",
          "text": [
            " 11%|█         | 11/100 [16:06<2:10:22, 87.89s/it]"
          ]
        },
        {
          "name": "stdout",
          "output_type": "stream",
          "text": [
            "tensor(2.3217, device='cuda:0', grad_fn=<NllLossBackward0>)\n"
          ]
        },
        {
          "name": "stderr",
          "output_type": "stream",
          "text": [
            " 21%|██        | 21/100 [30:41<1:55:10, 87.48s/it]"
          ]
        },
        {
          "name": "stdout",
          "output_type": "stream",
          "text": [
            "tensor(2.3061, device='cuda:0', grad_fn=<NllLossBackward0>)\n"
          ]
        },
        {
          "name": "stderr",
          "output_type": "stream",
          "text": [
            " 31%|███       | 31/100 [45:17<1:40:39, 87.54s/it]"
          ]
        },
        {
          "name": "stdout",
          "output_type": "stream",
          "text": [
            "tensor(2.3111, device='cuda:0', grad_fn=<NllLossBackward0>)\n"
          ]
        },
        {
          "name": "stderr",
          "output_type": "stream",
          "text": [
            " 41%|████      | 41/100 [59:53<1:26:19, 87.78s/it]"
          ]
        },
        {
          "name": "stdout",
          "output_type": "stream",
          "text": [
            "tensor(2.2893, device='cuda:0', grad_fn=<NllLossBackward0>)\n"
          ]
        },
        {
          "name": "stderr",
          "output_type": "stream",
          "text": [
            " 51%|█████     | 51/100 [1:14:34<1:11:53, 88.03s/it]"
          ]
        },
        {
          "name": "stdout",
          "output_type": "stream",
          "text": [
            "tensor(2.2998, device='cuda:0', grad_fn=<NllLossBackward0>)\n"
          ]
        },
        {
          "name": "stderr",
          "output_type": "stream",
          "text": [
            " 61%|██████    | 61/100 [1:29:13<57:01, 87.72s/it]  "
          ]
        },
        {
          "name": "stdout",
          "output_type": "stream",
          "text": [
            "tensor(2.3084, device='cuda:0', grad_fn=<NllLossBackward0>)\n"
          ]
        },
        {
          "name": "stderr",
          "output_type": "stream",
          "text": [
            " 71%|███████   | 71/100 [1:43:52<42:27, 87.83s/it]"
          ]
        },
        {
          "name": "stdout",
          "output_type": "stream",
          "text": [
            "tensor(2.3180, device='cuda:0', grad_fn=<NllLossBackward0>)\n"
          ]
        },
        {
          "name": "stderr",
          "output_type": "stream",
          "text": [
            " 81%|████████  | 81/100 [1:58:30<27:48, 87.84s/it]"
          ]
        },
        {
          "name": "stdout",
          "output_type": "stream",
          "text": [
            "tensor(2.3111, device='cuda:0', grad_fn=<NllLossBackward0>)\n"
          ]
        },
        {
          "name": "stderr",
          "output_type": "stream",
          "text": [
            " 91%|█████████ | 91/100 [2:13:10<13:11, 87.95s/it]"
          ]
        },
        {
          "name": "stdout",
          "output_type": "stream",
          "text": [
            "tensor(2.3149, device='cuda:0', grad_fn=<NllLossBackward0>)\n"
          ]
        },
        {
          "name": "stderr",
          "output_type": "stream",
          "text": [
            "100%|██████████| 100/100 [2:26:20<00:00, 87.81s/it]\n"
          ]
        }
      ],
      "source": [
        "loss_arr = []                                                 # 손실 값을 저장할 배열 초기화\n",
        "for i in trange(num_epoch):                                   # 총 학습 Epochs 수만큼 반복\n",
        "    for j,[image,label] in enumerate(train_loader):           # Data Loader에서 이미지와 레이블을 배치 단위로 받아옴\n",
        "        x = image.to(device)                                  # 이미지를 현재 사용 중인 장치(GPU)로 이동\n",
        "        y_= label.to(device)                                  # 레이블을 현재 사용 중인 장치(GPU)로 이동\n",
        "\n",
        "        optimizer.zero_grad()                                 # Optimizer의 기울기를 0으로 초기화\n",
        "        output = model.forward(x)                             # 예측 결과 계산\n",
        "        loss = loss_func(output,y_)                           # 손실 계산\n",
        "        loss.backward()                                       # Backpropagation Process\n",
        "        optimizer.step()                                      # 가중치 업데이트\n",
        "\n",
        "    if i % 10 ==0:                                            # 10 Epochs마다 손실 출력\n",
        "        print(loss)                                           # 현재 Epoch의 손실 값 출력\n",
        "        loss_arr.append(loss.cpu().detach().numpy())          # 손실 값을 배열에 저장\n"
      ]
    },
    {
      "cell_type": "code",
      "execution_count": 21,
      "metadata": {},
      "outputs": [],
      "source": [
        "save_path = \"vgg_model.pth\""
      ]
    },
    {
      "cell_type": "code",
      "execution_count": 22,
      "metadata": {},
      "outputs": [],
      "source": [
        "torch.save(model.state_dict(), save_path)"
      ]
    },
    {
      "cell_type": "code",
      "execution_count": 24,
      "metadata": {},
      "outputs": [
        {
          "name": "stdout",
          "output_type": "stream",
          "text": [
            "저장된 모델 vgg_model.pth 불러오기 성공!\n",
            "Files already downloaded and verified\n",
            "Accuracy of Test Data: 10.0%\n"
          ]
        }
      ],
      "source": [
        "# hyperparameter\n",
        "batch_size = 100\n",
        "learning_rate = 0.0002\n",
        "save_path = \"vgg_model.pth\"\n",
        "\n",
        "# device 설정\n",
        "device = torch.device(\"cuda:0\" if torch.cuda.is_available() else \"cpu\")\n",
        "\n",
        "# VGG 클래스를 인스턴스화\n",
        "model = VGG(base_dim=64).to(device)\n",
        "\n",
        "# 저장된 모델 불러오기 \n",
        "try:\n",
        "    model.load_state_dict(torch.load(save_path))\n",
        "    print(f\"저장된 모델 {save_path} 불러오기 성공!\")\n",
        "except FileNotFoundError:\n",
        "    print(f\"저장된 모델 {save_path}을 찾을 수 없습니다. 먼저 train.py를 실행하세요.\")\n",
        "\n",
        "# 손실함수 및 최적화함수 설정\n",
        "loss_func = nn.CrossEntropyLoss()\n",
        "optimizer = torch.optim.Adam(model.parameters(), lr=learning_rate)\n",
        "\n",
        "# Transform 정의\n",
        "transform = transforms.Compose(\n",
        "    [transforms.ToTensor(),\n",
        "     transforms.Normalize((0.5, 0.5, 0.5), (0.5, 0.5, 0.5))])\n",
        "\n",
        "# CIFAR10 TEST 데이터 정의\n",
        "cifar10_test = datasets.CIFAR10(root=\"../Data/\", train=False, transform=transform, target_transform=None, download=True)\n",
        "# DataLoader 정의\n",
        "test_loader = DataLoader(cifar10_test, batch_size = batch_size, shuffle=False)\n",
        "\n",
        "# test\n",
        "correct = 0  # 맞춘 개수를 저장하는 변수\n",
        "total = 0  # 전체 샘플 개수를 저장하는 변수\n",
        "\n",
        "# .eval() 호출 -> 모델이 평가 모드로 전환됨 (dropout & batchnorm 동작 방식이 달라짐)\n",
        "model.eval()\n",
        "\n",
        "# 기울기 업데이트 비활성화 (test 과정에서는 역전파가 필요 없기 때문에 실행해줘야 함) -> 연산 속도도 빨라지고, 메모리 사용량도 줄어둚\n",
        "with torch.no_grad():\n",
        "    # test_loader에서 batch 단위로 데이터 불러옴\n",
        "    for image,label in test_loader:\n",
        "        \n",
        "        # GPU / CPU 로 이동시킴\n",
        "        x = image.to(device)  # 입력 데이터 : (100, 3, 32, 32)\n",
        "        y= label.to(device)  # 정답 데이터 : (100, )\n",
        "\n",
        "        # output 생성\n",
        "        output = model.forward(x)\n",
        "        # 각 샘플에서 가장 높은 점수를 가진 클래스 인덱스 저장 -> 예측 값으로 선택하기 위해\n",
        "        _,output_index = torch.max(output,1)\n",
        "\n",
        "        # 정답 개수 & 전체 개수 업데이트\n",
        "        total += label.size(0)  # 전체 개수 += 배치 크기\n",
        "        correct += (output_index == y).sum().float()  # 맞춘 개수 += 예측과 정답이 같은 개수\n",
        "    \n",
        "    # 정확도 도출 = (맞춘 개수 / 전체 개수) * 100\n",
        "    print(\"Accuracy of Test Data: {}%\".format(100*correct/total))"
      ]
    },
    {
      "cell_type": "code",
      "execution_count": 19,
      "metadata": {
        "id": "BU8qWru-j8x_"
      },
      "outputs": [
        {
          "name": "stdout",
          "output_type": "stream",
          "text": [
            "Accuracy of Test Data: 10.0%\n"
          ]
        }
      ],
      "source": [
        "correct = 0\n",
        "total = 0\n",
        "\n",
        "model.eval()\n",
        "\n",
        "# 인퍼런스 모드를 위해 no_grad 해줍니다.\n",
        "with torch.no_grad():\n",
        "    # 테스트로더에서 이미지와 정답을 불러옵니다.\n",
        "    for image,label in test_loader:\n",
        "\n",
        "       # 두 데이터 모두 장치에 올립니다.\n",
        "        x = image.to(device)\n",
        "        y = label.to(device)\n",
        "\n",
        "        # 모델에 데이터를 넣고 결과값을 얻습니다.\n",
        "        output = model.forward(x)\n",
        "        _,output_index = torch.max(output,1)\n",
        "\n",
        "\n",
        "        # 전체 개수 += 라벨의 개수\n",
        "        total += label.size(0)\n",
        "        correct += (output_index == y).sum().float()\n",
        "\n",
        "    # 정확도 도출\n",
        "    print(\"Accuracy of Test Data: {}%\".format(100*correct/total))\n"
      ]
    }
  ],
  "metadata": {
    "colab": {
      "provenance": []
    },
    "kernelspec": {
      "display_name": "Python 3",
      "language": "python",
      "name": "python3"
    },
    "language_info": {
      "codemirror_mode": {
        "name": "ipython",
        "version": 3
      },
      "file_extension": ".py",
      "mimetype": "text/x-python",
      "name": "python",
      "nbconvert_exporter": "python",
      "pygments_lexer": "ipython3",
      "version": "3.10.12"
    }
  },
  "nbformat": 4,
  "nbformat_minor": 0
}
